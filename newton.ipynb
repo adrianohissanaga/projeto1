{
 "cells": [
  {
   "cell_type": "markdown",
   "id": "a7d4aefc",
   "metadata": {},
   "source": [
    "# bloblu\n",
    "\n",
    "## bloblão\n",
    "\n",
    "\\begin{equation}\n",
    "m c_p \\frac{dT}{dt} = UA (T-T_\\infty)\n",
    "\\end{equation}\n",
    "\n",
    "blabla\n",
    "\n",
    "\\begin{equation}\n",
    "\\frac{dT}{dt} = \\frac{UA}{\\rho V c_p} (T-T_\\infty)\n",
    "\\end{equation}\n",
    "\n",
    "blabla\n",
    "\n",
    "\\begin{equation}\n",
    "T(t)= T_\\infty + (T_0 - T_\\infty) \\exp \\left(-\\frac{UA}{\\rho V c_p} t \\right)\n",
    "\\end{equation}\n",
    "\n",
    "solução geral\n",
    "\\begin{equation}\n",
    "\\theta(t)= \\frac{T(t)-T_\\infty}{T_0 - T_\\infty} = \\exp \\left(-\\frac{t}{\\tau} \\right)\n",
    "\\end{equation}\n",
    "\n",
    "where $\\tau=UA/m C_p$\n",
    "\n",
    "\n"
   ]
  },
  {
   "cell_type": "code",
   "execution_count": 2,
   "id": "c9e7e10b",
   "metadata": {
    "scrolled": false
   },
   "outputs": [
    {
     "data": {
      "application/vnd.jupyter.widget-view+json": {
       "model_id": "7658399a615d432d88b4d1142d06d4a6",
       "version_major": 2,
       "version_minor": 0
      },
      "text/plain": [
       "interactive(children=(FloatSlider(value=1.0, description='dt_tau', max=2.0, min=0.1), Output()), _dom_classes=…"
      ]
     },
     "metadata": {},
     "output_type": "display_data"
    }
   ],
   "source": [
    "# Importando os modulos\n",
    "from ipywidgets import interactive\n",
    "import matplotlib.pyplot as plt\n",
    "import numpy as np\n",
    "\n",
    "## Definindo a funcao f(x) em termos de m e b\n",
    "def f(dt_tau):\n",
    "    plt.figure(2)\n",
    "    UA=1\n",
    "    mCp=1\n",
    "    tau = mCp/UA\n",
    "    t = np.linspace(0, 5*tau, 100)\n",
    "    Tf=1.0\n",
    "    T0=0.0\n",
    "    plt.plot(t/tau, np.exp(-UA/(mCp)*t), 'k-', label='Analitico')#, 'ko-', label='f(x) = '+str(m)+'x' + '{0:+}'.format(b))\n",
    "    #plt.plot(x, 0.5 * x - 0.5, 'o-', color='gray', label='f(x) = 0.5x-0.5')\n",
    "    plt.xlabel(r'$t/\\tau=t / \\left(\\frac{mC_p}{UA}\\right)$')\n",
    "    plt.ylabel(r'$\\theta(t) = \\dfrac{T(t)-T_\\infty}{T_{(t=0)}-T_\\infty}$')\n",
    "    plt.xlim(0, 5)\n",
    "    plt.ylim(-0.1, 1.1)\n",
    "    plt.grid()\n",
    "    # Teuler = odefun(t[0], T0, UA, mCp, Tf) #odesolve(odefun, t, [T0], args=(UA,mCp,Tf))\n",
    "    # Teuler = eulerstep(odefun, t[0], T0, 0.1, UA, mCp, Tf) #odesolve(odefun, t, [T0], args=(UA,mCp,Tf))\n",
    "    #te = np.linspace(0, 5*tau, Nt)T\n",
    "    te = np.arange(0, 6*tau, dt_tau)\n",
    "    Teuler = odesolve(odefun, te, [T0], eulerstep, UA, mCp, Tf) #odesolve(odefun, t, [T0], args=(UA,mCp,Tf))\n",
    "    Tieuler = odesolve(odefun, te, [T0], improvedeulerstep, UA, mCp, Tf) #odesolve(odefun, t, [T0], args=(UA,mCp,Tf))\n",
    "    \n",
    "    #print(Teuler)\n",
    "    plt.plot(te/tau, (np.array(Teuler)-Tf)/(T0-Tf), 'k--', label='Euler')#, 'ko-', label='f(x) = '+str(m)+'x' + '{0:+}'.format(b))\n",
    "    plt.plot(te/tau, (np.array(Tieuler)-Tf)/(T0-Tf), 'k:', label='Improved Euler')#, 'ko-', label='f(x) = '+str(m)+'x' + '{0:+}'.format(b))\n",
    "\n",
    "    plt.legend()\n",
    "\n",
    "    plt.show()\n",
    "\n",
    "def odefun(t, y, *args):\n",
    "    UA=args[0]\n",
    "    mCp= args[1]\n",
    "    Tf= args[2]\n",
    "    return UA/mCp*(Tf-y)\n",
    "\n",
    "def eulerstep(odefun, t0, y0, dt, *args):\n",
    "    return y0 + dt*odefun(t0, y0, *args)\n",
    "\n",
    "def improvedeulerstep(odefun, t0, y0, dt, *args):\n",
    "    ye = y0 + dt*odefun(t0, y0, *args)\n",
    "    return y0 + dt*(odefun(t0, y0, *args)+odefun(t0+dt, ye, *args))/2\n",
    "\n",
    "def odesolve(odefun, t, y0, stepper, *args):\n",
    "    y = y0\n",
    "    for nt in range(1, len(t)):\n",
    "        dt = t[nt]-t[nt-1]\n",
    "        t0 = t[nt]\n",
    "        y.append(stepper(odefun, t0, y[-1], dt, *args))\n",
    "    return y\n",
    "\n",
    "## Comando interativo    \n",
    "interactive_plot = interactive(f, dt_tau=(0.1, 2, 0.1))\n",
    "output = interactive_plot.children[-1]\n",
    "#output.layout.height = '300px'\n",
    "interactive_plot"
   ]
  },
  {
   "cell_type": "code",
   "execution_count": null,
   "id": "6bd72657",
   "metadata": {},
   "outputs": [],
   "source": []
  }
 ],
 "metadata": {
  "kernelspec": {
   "display_name": "Python 3 (ipykernel)",
   "language": "python",
   "name": "python3"
  },
  "language_info": {
   "codemirror_mode": {
    "name": "ipython",
    "version": 3
   },
   "file_extension": ".py",
   "mimetype": "text/x-python",
   "name": "python",
   "nbconvert_exporter": "python",
   "pygments_lexer": "ipython3",
   "version": "3.9.13"
  }
 },
 "nbformat": 4,
 "nbformat_minor": 5
}
